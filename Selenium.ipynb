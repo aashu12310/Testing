{
 "cells": [
  {
   "cell_type": "markdown",
   "metadata": {},
   "source": []
  },
  {
   "cell_type": "code",
   "execution_count": 2,
   "metadata": {},
   "outputs": [],
   "source": [
    "from selenium import webdriver\n",
    "from selenium.webdriver.common.keys import Keys"
   ]
  },
  {
   "cell_type": "markdown",
   "metadata": {},
   "source": []
  },
  {
   "cell_type": "code",
   "execution_count": 3,
   "metadata": {},
   "outputs": [
    {
     "name": "stdout",
     "output_type": "stream",
     "text": [
      "Google\n",
      "https://www.google.com/?gws_rd=ssl\n"
     ]
    }
   ],
   "source": [
    "#driver object \n",
    "driver=webdriver.Chrome(executable_path=\"C:\\webdriver\\chromedriver\")\n",
    "\n",
    "#for chrome webdriver.Chrome()\n",
    "#for firefox webdriver.Firefox()\n",
    "#for Internet Explorer webdriver.Ie()\n",
    "\n",
    "#will help- to open the url\n",
    "driver.get(\"http://google.com\")\n",
    "\n",
    "#title of the page\n",
    "print(driver.title)\n",
    "\n",
    "#returns the Url of the page\n",
    "print(driver.current_url)\n",
    "\n",
    "#HTML code for page\n",
    "#print(driver.page_source)\n",
    "\n",
    "\n",
    "#closes the browser\n",
    "driver.close()"
   ]
  },
  {
   "cell_type": "markdown",
   "metadata": {},
   "source": []
  },
  {
   "cell_type": "code",
   "execution_count": 5,
   "metadata": {},
   "outputs": [],
   "source": [
    "import time"
   ]
  },
  {
   "cell_type": "code",
   "execution_count": 19,
   "metadata": {},
   "outputs": [
    {
     "name": "stdout",
     "output_type": "stream",
     "text": [
      "Frames & windows\n",
      "http://demo.automationtesting.in/Windows.html\n"
     ]
    }
   ],
   "source": [
    "driver=webdriver.Chrome(executable_path=\"C:\\webdriver\\chromedriver\")\n",
    "\n",
    "driver.get(\"http://demo.automationtesting.in/Windows.html\")\n",
    "print(driver.title)\n",
    "print(driver.current_url)\n",
    "\n",
    "# for clicking the buttom we are using the xpath and click function will help to \n",
    "# click the buttom\n",
    "driver.find_element_by_xpath(\"//*[@id='Tabbed']/a/button\").click()\n",
    "\n",
    "\n",
    "# sleep will help to wait for sum time\n",
    "time.sleep(5)\n",
    "\n",
    "\n",
    "# through this we can say that when two tabs are open then it will close the one \n",
    "# tab i.e. parent tab \n",
    "driver.close()\n",
    "\n",
    "# for closing all tabs open then quit command will be used\n",
    "# driver.quit()\n",
    "\n"
   ]
  },
  {
   "cell_type": "markdown",
   "metadata": {},
   "source": [
    "# Navigation on Pages"
   ]
  },
  {
   "cell_type": "code",
   "execution_count": 6,
   "metadata": {},
   "outputs": [
    {
     "name": "stdout",
     "output_type": "stream",
     "text": [
      "Google\n",
      "UMS | Lovely Professional University | University Management System\n",
      "Google\n"
     ]
    },
    {
     "ename": "WebDriverException",
     "evalue": "Message: chrome not reachable\n  (Session info: chrome=85.0.4183.83)\n",
     "output_type": "error",
     "traceback": [
      "\u001b[1;31m---------------------------------------------------------------------------\u001b[0m",
      "\u001b[1;31mWebDriverException\u001b[0m                        Traceback (most recent call last)",
      "\u001b[1;32m<ipython-input-6-df45bfe57014>\u001b[0m in \u001b[0;36m<module>\u001b[1;34m\u001b[0m\n\u001b[0;32m     13\u001b[0m \u001b[1;33m\u001b[0m\u001b[0m\n\u001b[0;32m     14\u001b[0m \u001b[1;33m\u001b[0m\u001b[0m\n\u001b[1;32m---> 15\u001b[1;33m \u001b[0mdriver\u001b[0m\u001b[1;33m.\u001b[0m\u001b[0mforward\u001b[0m\u001b[1;33m(\u001b[0m\u001b[1;33m)\u001b[0m\u001b[1;31m#forward to  page\u001b[0m\u001b[1;33m\u001b[0m\u001b[0m\n\u001b[0m\u001b[0;32m     16\u001b[0m \u001b[1;33m\u001b[0m\u001b[0m\n\u001b[0;32m     17\u001b[0m \u001b[0mtime\u001b[0m\u001b[1;33m.\u001b[0m\u001b[0msleep\u001b[0m\u001b[1;33m(\u001b[0m\u001b[1;36m10\u001b[0m\u001b[1;33m)\u001b[0m\u001b[1;33m\u001b[0m\u001b[0m\n",
      "\u001b[1;32m~\\AppData\\Local\\Programs\\Python\\Python37\\lib\\site-packages\\selenium\\webdriver\\remote\\webdriver.py\u001b[0m in \u001b[0;36mforward\u001b[1;34m(self)\u001b[0m\n\u001b[0;32m    820\u001b[0m             \u001b[0mdriver\u001b[0m\u001b[1;33m.\u001b[0m\u001b[0mforward\u001b[0m\u001b[1;33m(\u001b[0m\u001b[1;33m)\u001b[0m\u001b[1;33m\u001b[0m\u001b[0m\n\u001b[0;32m    821\u001b[0m         \"\"\"\n\u001b[1;32m--> 822\u001b[1;33m         \u001b[0mself\u001b[0m\u001b[1;33m.\u001b[0m\u001b[0mexecute\u001b[0m\u001b[1;33m(\u001b[0m\u001b[0mCommand\u001b[0m\u001b[1;33m.\u001b[0m\u001b[0mGO_FORWARD\u001b[0m\u001b[1;33m)\u001b[0m\u001b[1;33m\u001b[0m\u001b[0m\n\u001b[0m\u001b[0;32m    823\u001b[0m \u001b[1;33m\u001b[0m\u001b[0m\n\u001b[0;32m    824\u001b[0m     \u001b[1;32mdef\u001b[0m \u001b[0mrefresh\u001b[0m\u001b[1;33m(\u001b[0m\u001b[0mself\u001b[0m\u001b[1;33m)\u001b[0m\u001b[1;33m:\u001b[0m\u001b[1;33m\u001b[0m\u001b[0m\n",
      "\u001b[1;32m~\\AppData\\Local\\Programs\\Python\\Python37\\lib\\site-packages\\selenium\\webdriver\\remote\\webdriver.py\u001b[0m in \u001b[0;36mexecute\u001b[1;34m(self, driver_command, params)\u001b[0m\n\u001b[0;32m    319\u001b[0m         \u001b[0mresponse\u001b[0m \u001b[1;33m=\u001b[0m \u001b[0mself\u001b[0m\u001b[1;33m.\u001b[0m\u001b[0mcommand_executor\u001b[0m\u001b[1;33m.\u001b[0m\u001b[0mexecute\u001b[0m\u001b[1;33m(\u001b[0m\u001b[0mdriver_command\u001b[0m\u001b[1;33m,\u001b[0m \u001b[0mparams\u001b[0m\u001b[1;33m)\u001b[0m\u001b[1;33m\u001b[0m\u001b[0m\n\u001b[0;32m    320\u001b[0m         \u001b[1;32mif\u001b[0m \u001b[0mresponse\u001b[0m\u001b[1;33m:\u001b[0m\u001b[1;33m\u001b[0m\u001b[0m\n\u001b[1;32m--> 321\u001b[1;33m             \u001b[0mself\u001b[0m\u001b[1;33m.\u001b[0m\u001b[0merror_handler\u001b[0m\u001b[1;33m.\u001b[0m\u001b[0mcheck_response\u001b[0m\u001b[1;33m(\u001b[0m\u001b[0mresponse\u001b[0m\u001b[1;33m)\u001b[0m\u001b[1;33m\u001b[0m\u001b[0m\n\u001b[0m\u001b[0;32m    322\u001b[0m             response['value'] = self._unwrap_value(\n\u001b[0;32m    323\u001b[0m                 response.get('value', None))\n",
      "\u001b[1;32m~\\AppData\\Local\\Programs\\Python\\Python37\\lib\\site-packages\\selenium\\webdriver\\remote\\errorhandler.py\u001b[0m in \u001b[0;36mcheck_response\u001b[1;34m(self, response)\u001b[0m\n\u001b[0;32m    240\u001b[0m                 \u001b[0malert_text\u001b[0m \u001b[1;33m=\u001b[0m \u001b[0mvalue\u001b[0m\u001b[1;33m[\u001b[0m\u001b[1;34m'alert'\u001b[0m\u001b[1;33m]\u001b[0m\u001b[1;33m.\u001b[0m\u001b[0mget\u001b[0m\u001b[1;33m(\u001b[0m\u001b[1;34m'text'\u001b[0m\u001b[1;33m)\u001b[0m\u001b[1;33m\u001b[0m\u001b[0m\n\u001b[0;32m    241\u001b[0m             \u001b[1;32mraise\u001b[0m \u001b[0mexception_class\u001b[0m\u001b[1;33m(\u001b[0m\u001b[0mmessage\u001b[0m\u001b[1;33m,\u001b[0m \u001b[0mscreen\u001b[0m\u001b[1;33m,\u001b[0m \u001b[0mstacktrace\u001b[0m\u001b[1;33m,\u001b[0m \u001b[0malert_text\u001b[0m\u001b[1;33m)\u001b[0m\u001b[1;33m\u001b[0m\u001b[0m\n\u001b[1;32m--> 242\u001b[1;33m         \u001b[1;32mraise\u001b[0m \u001b[0mexception_class\u001b[0m\u001b[1;33m(\u001b[0m\u001b[0mmessage\u001b[0m\u001b[1;33m,\u001b[0m \u001b[0mscreen\u001b[0m\u001b[1;33m,\u001b[0m \u001b[0mstacktrace\u001b[0m\u001b[1;33m)\u001b[0m\u001b[1;33m\u001b[0m\u001b[0m\n\u001b[0m\u001b[0;32m    243\u001b[0m \u001b[1;33m\u001b[0m\u001b[0m\n\u001b[0;32m    244\u001b[0m     \u001b[1;32mdef\u001b[0m \u001b[0m_value_or_default\u001b[0m\u001b[1;33m(\u001b[0m\u001b[0mself\u001b[0m\u001b[1;33m,\u001b[0m \u001b[0mobj\u001b[0m\u001b[1;33m,\u001b[0m \u001b[0mkey\u001b[0m\u001b[1;33m,\u001b[0m \u001b[0mdefault\u001b[0m\u001b[1;33m)\u001b[0m\u001b[1;33m:\u001b[0m\u001b[1;33m\u001b[0m\u001b[0m\n",
      "\u001b[1;31mWebDriverException\u001b[0m: Message: chrome not reachable\n  (Session info: chrome=85.0.4183.83)\n"
     ]
    }
   ],
   "source": [
    "driver=webdriver.Chrome(executable_path=\"C:\\webdriver\\chromedriver\")\n",
    "driver.get(\"http://google.com/\")\n",
    "print(driver.title)\n",
    "    \n",
    "driver.get(\"http://ums.lpu.in/\")\n",
    "print(driver.title)\n",
    "\n",
    "time.sleep(10)\n",
    "\n",
    "driver.back()# this command will help to go back to old page\n",
    "print(driver.title)\n",
    "time.sleep(10)\n",
    "\n",
    "\n",
    "driver.forward()#forward to  page\n",
    "\n",
    "time.sleep(10)\n",
    "\n",
    "driver.close()\n"
   ]
  },
  {
   "cell_type": "markdown",
   "metadata": {},
   "source": [
    "# Conditional Commands\n",
    "\n",
    "# is_displayed() and is_enabled() used for any kind of web element\n",
    "# is_selected() used for checkboxes and radio buttom\n"
   ]
  },
  {
   "cell_type": "code",
   "execution_count": 15,
   "metadata": {},
   "outputs": [
    {
     "name": "stdout",
     "output_type": "stream",
     "text": [
      "True\n",
      "True\n",
      "True\n",
      "True\n"
     ]
    }
   ],
   "source": [
    "driver=webdriver.Chrome(executable_path=\"C:\\webdriver\\chromedriver\")\n",
    "\n",
    "driver.get(\"https://www.facebook.com/\")\n",
    "ele=driver.find_element_by_name(\"email\") # identify the elements\n",
    "# element is disabled or enabled or not will return true or false \n",
    "\n",
    "print(ele.is_displayed())\n",
    "print(ele.is_enabled())\n",
    "\n",
    "\n",
    "\n",
    "e=driver.find_element_by_xpath(\"//*[@id='pass']\")\n",
    "print(e.is_displayed())\n",
    "print(e.is_enabled())\n",
    "\n",
    "\n",
    "#enter data in the objects\n",
    "ele.send_keys(\"aashu12310\")\n",
    "e.send_keys(\"@ashutosh12310\")\n",
    "\n",
    "\n",
    "driver.find_element_by_xpath(\"//*[@id='u_0_b']\").click()\n",
    "\n",
    "\n",
    "#roundtrip=driver.find_element_by_css_selector(\"input[value=roundtrip]\")\n",
    "#roundtrip.is_selected() -status whteher radio button selected or not\n",
    "\n"
   ]
  },
  {
   "cell_type": "markdown",
   "metadata": {},
   "source": [
    "# Waits - IMPLICIT"
   ]
  },
  {
   "cell_type": "code",
   "execution_count": 7,
   "metadata": {},
   "outputs": [],
   "source": [
    "driver=webdriver.Chrome(executable_path=\"C:\\webdriver\\chromedriver\")\n",
    "\n",
    "driver.get(\"https://www.linkedin.com/feed/\")#opening url takes some time\n",
    "\n",
    "#after opening the url it will wait here\n",
    "#implicit wait is applicable for all the elements available in the page \n",
    "driver.implicitly_wait(10)\n",
    "assert \"LinkedIn\" in driver.title\n",
    "\n",
    "\n",
    "\n",
    "\n"
   ]
  },
  {
   "cell_type": "markdown",
   "metadata": {},
   "source": [
    "# Waits- EXPLICIT"
   ]
  },
  {
   "cell_type": "code",
   "execution_count": null,
   "metadata": {},
   "outputs": [],
   "source": [
    "#explicit works on condition not on time\n",
    "driver=webdriver.Chrome(executable_path=\"C:\\webdriver\\chromedriver\")\n",
    "\n",
    "driver.implicitly_wait(5)\n",
    "\n",
    "driver.maximize_window()\n",
    "driver.get(\"https://www.expedia.com/\")\n",
    "\n",
    "driver.find_element_by_xpath(\"//*[@id='uitk-tabs-button-container']/li[2]/a\").click()\n",
    "'''\n",
    "or we can use \n",
    "driver.find_element(By.ID,\"uitk-tabs-button-container\")\n",
    "for By we have to import\n",
    "from selenium.webdriver.common.by import By\n",
    "'''\n",
    "time.sleep(5)\n",
    "\n",
    "'''\n",
    "as it takes time to load we will put explicit wait\n",
    "we have to import one package for explicit as it works on certain condition\n",
    "\n",
    "from selenium.webdriver.support import expected_conditions as ec\n",
    "from selenium.webdriver.support.ui import WebDriverWait\n",
    "wait=WebDriverWait(driver,10)\n",
    "element=wait.until(ec.element_to_be_clickable(By.xpath,\"hfdfdcdnn//gf\"))\n",
    "element.click()\n",
    "'''"
   ]
  },
  {
   "cell_type": "markdown",
   "metadata": {},
   "source": [
    "# Working with Input Boxes"
   ]
  },
  {
   "cell_type": "code",
   "execution_count": 13,
   "metadata": {},
   "outputs": [],
   "source": [
    "driver=webdriver.Chrome(executable_path=\"C:\\webdriver\\chromedriver\")\n",
    "driver.get(\"https://fs2.formsite.com/meherpavan/form2/index.html?1537702596407\")\n",
    "\n",
    "#how to get the status of input box \n",
    "#is_displayed or is_enabled or not\n",
    "\n",
    "#how to find how many inputboxes present in webpage\n",
    "inputboxes=driver.find_element_by_class_name(\"text_field\")\n",
    "'''\n",
    "or we can use\n",
    "driver.find_element(By.CLASS_NAME,'text_field')\n",
    "'''\n",
    "#print(len(inputboxes))\n",
    "\n",
    " \n",
    "#how to provide value into textboxes\n",
    "driver.find_element_by_id(\"RESULT_TextField-1\").send_keys(\"jdnvcnj\")\n",
    "\n",
    " \n",
    "\n"
   ]
  },
  {
   "cell_type": "markdown",
   "metadata": {},
   "source": [
    "# Working with radio button and check boxes"
   ]
  },
  {
   "cell_type": "code",
   "execution_count": 9,
   "metadata": {
    "scrolled": true
   },
   "outputs": [
    {
     "name": "stdout",
     "output_type": "stream",
     "text": [
      "False\n"
     ]
    },
    {
     "data": {
      "text/plain": [
       "'\\nworking with the checkbox'"
      ]
     },
     "execution_count": 9,
     "metadata": {},
     "output_type": "execute_result"
    }
   ],
   "source": [
    "\n",
    "\n",
    "driver=webdriver.Chrome(executable_path=\"C:\\webdriver\\chromedriver\")\n",
    "driver.get(\"https://fs2.formsite.com/meherpavan/form2/index.html?1537702596407\")\n",
    "\n",
    "\n",
    "'''In Radio we can verify it selected or not is_selected() can be used\n",
    "   second it clicked or not \n",
    "'''\n",
    "#working with radio button\n",
    "\n",
    "status=driver.find_element_by_id(\"RESULT_RadioButton-7_0\").is_selected()\n",
    "print(status)\n",
    "\n",
    "#selecting the radio button\n",
    "#driver.find_element_by_id(\"RESULT_RadioButton-7_0\").click()\n",
    "\n",
    "\n",
    "'''\n",
    "working with the checkbox\n",
    "'''\n",
    "\n",
    "\n",
    "#driver.find_element_by_id(\"RESULT_CheckBox-8_0\").click()"
   ]
  },
  {
   "cell_type": "markdown",
   "metadata": {},
   "source": [
    "# Working with dropdown"
   ]
  },
  {
   "cell_type": "code",
   "execution_count": 8,
   "metadata": {},
   "outputs": [
    {
     "name": "stdout",
     "output_type": "stream",
     "text": [
      "4\n",
      "\n",
      "Morning\n",
      "Afternoon\n",
      "Evening\n"
     ]
    }
   ],
   "source": [
    "from selenium.webdriver.support.ui import Select\n",
    "\n",
    "driver=webdriver.Chrome(executable_path=\"C:\\webdriver\\chromedriver\")\n",
    "driver.get(\"https://fs2.formsite.com/meherpavan/form2/index.html?1537702596407\")\n",
    "\n",
    "\n",
    "'''\n",
    "by using selct class we can handle dropdown\n",
    "\n",
    "select one option\n",
    "find out how many options exist in drop down\n",
    "count how many options present in drop down list\n",
    "'''\n",
    "drp=Select(driver.find_element_by_id(\"RESULT_RadioButton-9\"))\n",
    "\n",
    "#there are 3 methods to select element from dropdown\n",
    "#1\n",
    "drp.select_by_visible_text('Morning') #just write actual name present in dropdown \n",
    "#drp.select_by_index(2) #write index number at which element is present\n",
    "#drp.select_by_value(\"Radio-2\")# inspect choose the value\n",
    "\n",
    "#how to count number of option\n",
    "print(len(drp.options))\n",
    "\n",
    "#capture all the option and print them as output\n",
    "all_options=drp.options\n",
    "for x in all_options:\n",
    "    print(x.text)\n"
   ]
  },
  {
   "cell_type": "markdown",
   "metadata": {},
   "source": [
    "# Working with links"
   ]
  },
  {
   "cell_type": "code",
   "execution_count": 19,
   "metadata": {},
   "outputs": [
    {
     "name": "stdout",
     "output_type": "stream",
     "text": [
      "17\n"
     ]
    }
   ],
   "source": [
    "from selenium.webdriver.common.by import By\n",
    "\n",
    "\n",
    "driver=webdriver.Chrome(executable_path=\"C:\\webdriver\\chromedriver\")\n",
    "driver.get(\"https://fs2.formsite.com/meherpavan/form2/index.html?1537702596407\")\n",
    "\n",
    "links=driver.find_elements(By.TAG_NAME,\"a\")\n",
    "print(len(links)) #number of links present in webpage\n",
    "\n",
    "\n",
    "# click on the link\n",
    "#driver.find_element(By.LINK_TEXT,\"Software Testing Tutorials\").click()\n",
    "#driver.find_element(By.PARTIAL_LINK,\"Soft\")\n",
    "\n",
    "\n",
    "#for link in links:\n",
    "#    print(link.text)\n",
    "    \n",
    "    "
   ]
  },
  {
   "cell_type": "markdown",
   "metadata": {},
   "source": [
    "# Working with Alerts"
   ]
  },
  {
   "cell_type": "code",
   "execution_count": 4,
   "metadata": {},
   "outputs": [
    {
     "name": "stderr",
     "output_type": "stream",
     "text": [
      "C:\\Users\\aashu\\AppData\\Local\\Programs\\Python\\Python37\\lib\\site-packages\\ipykernel_launcher.py:11: DeprecationWarning: use driver.switch_to.alert instead\n",
      "  # This is added back by InteractiveShellApp.init_path()\n"
     ]
    }
   ],
   "source": [
    "import time\n",
    "\n",
    "driver=webdriver.Chrome(executable_path=\"C:\\webdriver\\chromedriver\")\n",
    "driver.get(\"https://testautomationpractice.blogspot.com/\")\n",
    "\n",
    "driver.find_element_by_xpath(\"//*[@id='HTML9']/div[1]/button\").click()\n",
    "\n",
    "time.sleep(5)\n",
    "\n",
    "#driver.switch_to_alert().accept()#closes the alert button by clcking the ok on alert\n",
    "driver.switch_to_alert().dismiss()#closes alert by chosing cancel button"
   ]
  },
  {
   "cell_type": "markdown",
   "metadata": {},
   "source": [
    "# Working with Frame"
   ]
  },
  {
   "cell_type": "code",
   "execution_count": 6,
   "metadata": {},
   "outputs": [],
   "source": [
    "'''\n",
    "switch_to.frame(name) switches the frame by name\n",
    "switch_to.frame(id)  \n",
    "'''\n",
    "\n",
    "driver=webdriver.Chrome(executable_path=\"C:\\webdriver\\chromedriver\")\n",
    "driver.get(\"https://seleniumhq.github.io/selenium/docs/api/java/index.html\")\n",
    "\n",
    "driver.switch_to.frame(\"packageListFrame\")\n",
    "driver.find_element_by_link_text(\"org.openqa.selenium\").click()\n",
    "time.sleep(3)\n",
    "\n",
    "driver.switch_to.default_content() #this method will go back to page\n",
    "\n",
    "driver.switch_to.frame(\"packageFrame\")#second frame\n",
    "driver.find_element_by_link_text(\"WebDriver\").click()\n",
    "time.sleep(3)\n",
    "\n",
    "driver.switch_to.default_content()\n",
    "time.sleep(3)\n",
    "driver.switch_to.frame(\"classFrame\")\n",
    "driver.find_element_by_xpath(\"/html/body/div[1]/ul/li[5]/a\").click()\n",
    "\n",
    "\n",
    "driver.quit()"
   ]
  },
  {
   "cell_type": "markdown",
   "metadata": {},
   "source": [
    "#  Working with Broswer Windows"
   ]
  },
  {
   "cell_type": "code",
   "execution_count": 8,
   "metadata": {},
   "outputs": [
    {
     "name": "stdout",
     "output_type": "stream",
     "text": [
      "CDwindow-184641EF7E08BB737AF86E6357DA3284\n",
      "Frames & windows\n",
      "\n"
     ]
    }
   ],
   "source": [
    "driver=webdriver.Chrome(executable_path=\"C:\\webdriver\\chromedriver\")\n",
    "driver.get(\"http://demo.automationtesting.in/Windows.html\")\n",
    "driver.find_element_by_xpath(\"//*[@id='Tabbed']/a/button\").click()\n",
    "\n",
    "print(driver.current_window_handle)# return handle id of current tab\n",
    "\n",
    "handle=driver.window_handles #return handle id of every open tab\n",
    "\n",
    "for i in handle:\n",
    "    driver.switch_to.window(i)\n",
    "    print(driver.title)\n",
    "    \n",
    "    \n",
    "driver.quit()"
   ]
  },
  {
   "cell_type": "markdown",
   "metadata": {},
   "source": [
    "# Working with Web tables"
   ]
  },
  {
   "cell_type": "code",
   "execution_count": null,
   "metadata": {},
   "outputs": [],
   "source": [
    "driver=webdriver.Chrome(executable_path=\"C:\\webdriver\\chromedriver\")\n",
    "driver.get(\"link of the webpage contains table\")\n",
    "\n",
    "#counts the number of rows\n",
    "rows=len(driver.find_elements_by_xpath(\"vxchjbxcbbxcn\"))\n",
    "\n",
    "#colums\n",
    "colums=driver.find_elements_by_xpath(\"jhcxjxncjnjcx\")\n",
    "\n",
    "for r in range(2,rows+1):\n",
    "    for c in range(1,colums+1):\n",
    "        print(driver.find_element_by_xpath(\"jbcjnnn nj[+\"str(r)\"+]/cnjxc[+\"str(c)\"+]/\").text)\n",
    "\n"
   ]
  },
  {
   "cell_type": "markdown",
   "metadata": {},
   "source": [
    "# How to scroll down the page "
   ]
  },
  {
   "cell_type": "code",
   "execution_count": null,
   "metadata": {},
   "outputs": [],
   "source": [
    "'''\n",
    "3 ways\n",
    "1. Scroll down the page by pixel\n",
    "    driver.execute_script(\"window.scrollBy(0,500)\",\"\")\n",
    "    \n",
    "2. Scroll down the page till element found\n",
    "    driver.execute_script(\"arguments[0].scrollIntoView();\",Element)\n",
    "    \n",
    "3. Scroll to end of the page\n",
    "    driver.execute_script(\"window.scrollBy(0,document.body.scrollHeight)\") \n",
    "'''\n",
    "driver=webdriver.Chrome(executable_path=\"C:\\webdriver\\chromedriver\")\n",
    "driver.get(\"https://www.countries-of-the-world.com/flags-of0the-world.html\")\n",
    "\n",
    "driver.maximize_window()\n",
    "\n",
    "driver.execute_script(\"windows.scrollBy(0,500)\",\"\")# it scroll to certain pixels in this case 500 pixels\n",
    "\n",
    "flag=driver.find_element_by_xpath(\"jvcjnjnc\")#xpath of element to be searched\n",
    "driver.execute_script(\"arguments[0].scrollIntoView();\",flag) \n",
    "\n",
    "driver.execute_script(\"window.scrollBy(0,document.body.scrollHeight)\")"
   ]
  },
  {
   "cell_type": "markdown",
   "metadata": {},
   "source": [
    "# Mouse Actions"
   ]
  },
  {
   "cell_type": "markdown",
   "metadata": {},
   "source": [
    "Mouse Hover"
   ]
  },
  {
   "cell_type": "code",
   "execution_count": 14,
   "metadata": {},
   "outputs": [],
   "source": [
    "'''\n",
    "-Mouse Hover\n",
    "-Double Click\n",
    "-Right Click\n",
    "-Drag and Drop\n",
    "'''\n",
    "from selenium.webdriver import ActionChains #provides mouse actions\n",
    "\n",
    "driver=webdriver.Chrome(executable_path=\"C:\\webdriver\\chromedriver\")\n",
    "driver.get(\"https://opensource-demo.orangehrmlive.com\")\n",
    "\n",
    "\n",
    "driver.find_element_by_xpath(\"//*[@id='txtUsername']\").send_keys(\"Admin\")\n",
    "driver.find_element_by_xpath(\"//*[@id='txtPassword']\").send_keys(\"admin123\")\n",
    "driver.find_element_by_xpath(\"//*[@id='btnLogin']\").click()\n",
    "\n",
    "admin=driver.find_element_by_xpath(\"//*[@id='menu_admin_viewAdminModule']/b\")\n",
    "um=driver.find_element_by_xpath(\"//*[@id='menu_admin_UserManagement']\")\n",
    "user=driver.find_element_by_xpath(\"//*[@id='menu_admin_viewSystemUsers']\")\n",
    "\n",
    "actions=ActionChains(driver)\n",
    "actions.move_to_element(admin).move_to_element(um).move_to_element(user).click().perform()\n",
    "\n"
   ]
  },
  {
   "cell_type": "markdown",
   "metadata": {},
   "source": [
    "Double Click"
   ]
  },
  {
   "cell_type": "code",
   "execution_count": 16,
   "metadata": {},
   "outputs": [],
   "source": [
    "from selenium.webdriver import ActionChains #provides mouse actions\n",
    "\n",
    "driver=webdriver.Chrome(executable_path=\"C:\\webdriver\\chromedriver\")\n",
    "driver.get(\"https://testautomationpractice.blogspot.com/\")\n",
    "\n",
    "driver.maximize_window()\n",
    "\n",
    "element=driver.find_element_by_xpath(\"//*[@id='HTML10']/div[1]/button\")\n",
    "\n",
    "actions=ActionChains(driver)\n",
    "actions.double_click(element).perform()#perorfm double click"
   ]
  },
  {
   "cell_type": "markdown",
   "metadata": {},
   "source": [
    "Right Click"
   ]
  },
  {
   "cell_type": "code",
   "execution_count": null,
   "metadata": {},
   "outputs": [],
   "source": [
    "from selenium.webdriver import ActionChains #provides mouse actions\n",
    "\n",
    "driver=webdriver.Chrome(executable_path=\"C:\\webdriver\\chromedriver\")\n",
    "driver.get(\"https://swisnl.github.io/JQuery-contentMenu/demo.html\")\n",
    "\n",
    "#example\n",
    "#element=driver.find_element_by_xpath(\"//*[@id='HTML10']/div[1]/button\")\n",
    "\n",
    "actions=ActionsChains(driver)\n",
    "\n",
    "actions.context_click(element).perform()"
   ]
  },
  {
   "cell_type": "markdown",
   "metadata": {},
   "source": [
    "Drag and Drop"
   ]
  },
  {
   "cell_type": "code",
   "execution_count": 17,
   "metadata": {},
   "outputs": [],
   "source": [
    "from selenium.webdriver import ActionChains #provides mouse actions\n",
    "driver=webdriver.Chrome(executable_path=\"C:\\webdriver\\chromedriver\")\n",
    "\n",
    "driver.get(\"http://www.dhtmlgoodies.com/scripts/drag-drop-custom/demo-drag-drop-3.html\")\n",
    "\n",
    "source=driver.find_element_by_xpath(\"//*[@id='box6']\")\n",
    "target=driver.find_element_by_xpath(\"//*[@id='box106']\")\n",
    "\n",
    "actions=ActionChains(driver)\n",
    "\n",
    "actions.drag_and_drop(source,target).perform()"
   ]
  },
  {
   "cell_type": "markdown",
   "metadata": {},
   "source": [
    "# How to Upload files"
   ]
  },
  {
   "cell_type": "code",
   "execution_count": 20,
   "metadata": {},
   "outputs": [
    {
     "name": "stderr",
     "output_type": "stream",
     "text": [
      "C:\\Users\\aashu\\AppData\\Local\\Programs\\Python\\Python37\\lib\\site-packages\\ipykernel_launcher.py:5: DeprecationWarning: use driver.switch_to.frame instead\n",
      "  \"\"\"\n"
     ]
    }
   ],
   "source": [
    "driver=webdriver.Chrome(executable_path=\"C:\\webdriver\\chromedriver\")\n",
    "driver.get(\"https://testautomationpractice.blogspot.com/\")\n",
    "driver.maximize_window()\n",
    "\n",
    "driver.switch_to_frame(0)\n",
    "\n",
    "driver.find_element_by_xpath(\"//*[@id='RESULT_FileUpload-10']\").send_keys(\"C:/Users/aashu/Pictures/Screenshots/Screenshot (27).png\") \n"
   ]
  },
  {
   "cell_type": "markdown",
   "metadata": {},
   "source": [
    "# DownloAD a file"
   ]
  },
  {
   "cell_type": "code",
   "execution_count": null,
   "metadata": {},
   "outputs": [],
   "source": [
    "driver=webdriver.Chrome(executable_path=\"C:\\webdriver\\chromedriver\")\n",
    "driver.get(\"https://demo.automationtesting.in/FileDownload.html\")\n",
    "\n",
    "#how to download a file\n",
    "driver.find_element_by_id(\"textbook\").send_keys(\"ncncxkkmxc\")\n",
    "driver.find_element_by_id(\"CreateTxt\").click()\n",
    "driver.find_element_by_id(\"link-to-download\").click()\n",
    "\n",
    "\n",
    "\n",
    "#how to download expected location\n",
    "\n",
    "from selenium.webdriver.chrome.options import Options\n",
    "\n",
    "driver=webdriver.Chrome(executable_path=\"C:\\webdriver\\chromedriver\",chrome_options=chromeoptions)\n",
    "driver.get(\"https://demo.automationtesting.in/FileDownload.html\")\n",
    "\n",
    "\n",
    "\n",
    "chromeoptions=Options()\n",
    "chromeoptions.add_experimental_option(\"prefs\",{\"download.default_directory\":\"C:\\Download\"})\n",
    "\n",
    "\n",
    "driver.find_element_by_id(\"textbook\").send_keys(\"ncncxkkmxc\")\n",
    "driver.find_element_by_id(\"CreateTxt\").click()\n",
    "driver.find_element_by_id(\"link-to-download\").click()"
   ]
  },
  {
   "cell_type": "markdown",
   "metadata": {},
   "source": [
    "# Data Driven Testing using excel"
   ]
  },
  {
   "cell_type": "code",
   "execution_count": null,
   "metadata": {},
   "outputs": [],
   "source": [
    "import openpyxl\n",
    "\n",
    "#reading the excel\n",
    "path=\"C:/Users/aashu/Desktop/New folder/xcn.xlsx\"\n",
    "workbook=openpyxl.load_workbook(path)\n",
    "\n",
    "sheet=workbook.active # for single value\n",
    "#sheet=workbook.get_sheet_by_name(\"name of sheet\")\n",
    "\n",
    "rows=sheet.max_row\n",
    "cols=sheet.max_column\n",
    "\n",
    "for i in range(1,rows+1):\n",
    "    for j in range(1,cols+1):\n",
    "        print(sheet.cell(row=i,column=j).value,end=\" \")\n",
    "    print()\n"
   ]
  },
  {
   "cell_type": "code",
   "execution_count": 30,
   "metadata": {},
   "outputs": [],
   "source": [
    "#write in excel\n",
    "import openpyxl\n",
    "\n",
    "path=\"C:/Users/aashu/Desktop/New folder/xcn.xlsx\"\n",
    "\n",
    "workbook=openpyxl.load_workbook(path)\n",
    "\n",
    "sheet=workbook.active\n",
    "\n",
    "for r in range(1,6):\n",
    "    for c in range(1,4):\n",
    "        sheet.cell(row=r,column=c).value=\"welcome\"\n",
    "\n",
    "workbook.save(path)"
   ]
  },
  {
   "cell_type": "code",
   "execution_count": null,
   "metadata": {},
   "outputs": [],
   "source": [
    "#data driven testing"
   ]
  },
  {
   "cell_type": "code",
   "execution_count": null,
   "metadata": {},
   "outputs": [],
   "source": []
  },
  {
   "cell_type": "code",
   "execution_count": null,
   "metadata": {},
   "outputs": [],
   "source": []
  },
  {
   "cell_type": "code",
   "execution_count": null,
   "metadata": {},
   "outputs": [],
   "source": []
  },
  {
   "cell_type": "code",
   "execution_count": null,
   "metadata": {},
   "outputs": [],
   "source": []
  },
  {
   "cell_type": "code",
   "execution_count": null,
   "metadata": {},
   "outputs": [],
   "source": []
  },
  {
   "cell_type": "code",
   "execution_count": null,
   "metadata": {},
   "outputs": [],
   "source": []
  },
  {
   "cell_type": "code",
   "execution_count": null,
   "metadata": {},
   "outputs": [],
   "source": []
  },
  {
   "cell_type": "code",
   "execution_count": null,
   "metadata": {},
   "outputs": [],
   "source": []
  },
  {
   "cell_type": "code",
   "execution_count": null,
   "metadata": {},
   "outputs": [],
   "source": []
  },
  {
   "cell_type": "code",
   "execution_count": null,
   "metadata": {},
   "outputs": [],
   "source": []
  },
  {
   "cell_type": "code",
   "execution_count": null,
   "metadata": {},
   "outputs": [],
   "source": []
  }
 ],
 "metadata": {
  "kernelspec": {
   "display_name": "Python 3",
   "language": "python",
   "name": "python3"
  },
  "language_info": {
   "codemirror_mode": {
    "name": "ipython",
    "version": 3
   },
   "file_extension": ".py",
   "mimetype": "text/x-python",
   "name": "python",
   "nbconvert_exporter": "python",
   "pygments_lexer": "ipython3",
   "version": "3.7.0"
  }
 },
 "nbformat": 4,
 "nbformat_minor": 4
}
